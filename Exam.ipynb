{
 "cells": [
  {
   "cell_type": "markdown",
   "metadata": {},
   "source": [
    "1- Pythagorean Triple"
   ]
  },
  {
   "cell_type": "code",
   "execution_count": 1,
   "metadata": {},
   "outputs": [
    {
     "name": "stdout",
     "output_type": "stream",
     "text": [
      "(200, 375, 425)\n"
     ]
    }
   ],
   "source": [
    "def pythagorean(n):\n",
    "    for a in range(1, n//2):\n",
    "        for b in range(a+1, n//2):\n",
    "            c = n - (a + b)\n",
    "            a2 = a**2\n",
    "            b2 = b**2\n",
    "            c2 = c**2\n",
    "            if b > c:\n",
    "                break\n",
    "            if (a2 + b2) == c2:\n",
    "                return a, b, c\n",
    "print(pythagorean(1000))"
   ]
  },
  {
   "cell_type": "markdown",
   "metadata": {},
   "source": [
    "2- Robotic Rover of Nasa"
   ]
  },
  {
   "cell_type": "code",
   "execution_count": 2,
   "metadata": {},
   "outputs": [
    {
     "name": "stdout",
     "output_type": "stream",
     "text": [
      "input : ['5 5', '1 2 N', 'LMLMLMLMM', '3 3 E', 'MMRMMRMRRM'] \n",
      "\n",
      "1 3 N\n",
      "5 1 E\n",
      "[' ', ' ', ' ', ' ', ' ']\n",
      "[' ', ' ', ' ', ' ', ' ']\n",
      "['N', ' ', ' ', ' ', ' ']\n",
      "[' ', ' ', ' ', ' ', ' ']\n",
      "[' ', ' ', ' ', ' ', 'E']\n"
     ]
    }
   ],
   "source": [
    "def plateu(doc):\n",
    "    file = open(doc, \"r\")\n",
    "    f = file.read()\n",
    "    file.close()\n",
    "    \n",
    "    f = f.split(\"\\n\")\n",
    "    print(\"input :\", f, \"\\n\")\n",
    "    \n",
    "    upper_right_co = list(map(int, f[0].split(\" \")))\n",
    "    urc_y = upper_right_co[1]\n",
    "    urc_x = upper_right_co[0]\n",
    "    plateu = [[' ' for x in range(urc_x)] for y in range(urc_y)]\n",
    "    \n",
    "    navigation = {\"L\":{\"N\":\"W\", \"W\":\"S\", \"S\":\"E\", \"E\":\"N\"},\n",
    "                 \"R\":{\"N\":\"E\", \"E\":\"S\", \"S\":\"W\", \"W\":\"N\"}}\n",
    "    \n",
    "    for i in range(1, len(f), 2):\n",
    "        x,y,d = f[i].split(\" \") # x,y,direction of rover\n",
    "        x = int(x); y = int(y)\n",
    "        \n",
    "        for m in f[i+1]:\n",
    "            if m == \"M\":\n",
    "                if d == \"N\":\n",
    "                    y += 1\n",
    "                elif d == \"W\":\n",
    "                    x -= 1\n",
    "                elif d == \"S\":\n",
    "                    y -= 1\n",
    "                else:\n",
    "                    x += 1\n",
    "            else:\n",
    "                d = navigation[m][d]\n",
    "        print(x, y, d)\n",
    "        plateu[urc_y-y][x-1] = d\n",
    "    \n",
    "    for y in plateu:\n",
    "        print(y)\n",
    "\n",
    "plateu(\"q2.txt\") # it is assumed that the rover will not pass borders of the plateu"
   ]
  },
  {
   "cell_type": "markdown",
   "metadata": {},
   "source": [
    "3- Sum of Primes of the limit N"
   ]
  },
  {
   "cell_type": "code",
   "execution_count": 3,
   "metadata": {},
   "outputs": [
    {
     "name": "stdout",
     "output_type": "stream",
     "text": [
      "17\n"
     ]
    }
   ],
   "source": [
    "import sys\n",
    "\n",
    "def sum_of_primes(n):\n",
    "    summ = 0\n",
    "    for i in range(2, n):\n",
    "        state = True\n",
    "        for j in range(2, i):\n",
    "            if i%j == 0:\n",
    "                state = False\n",
    "                break\n",
    "        if state:\n",
    "            summ += i\n",
    "    return summ\n",
    "\n",
    "sys.stdout.write(str(sum_of_primes(10)) + \"\\n\")"
   ]
  }
 ],
 "metadata": {
  "kernelspec": {
   "display_name": "Python 3",
   "language": "python",
   "name": "python3"
  },
  "language_info": {
   "codemirror_mode": {
    "name": "ipython",
    "version": 3
   },
   "file_extension": ".py",
   "mimetype": "text/x-python",
   "name": "python",
   "nbconvert_exporter": "python",
   "pygments_lexer": "ipython3",
   "version": "3.6.5"
  }
 },
 "nbformat": 4,
 "nbformat_minor": 2
}
